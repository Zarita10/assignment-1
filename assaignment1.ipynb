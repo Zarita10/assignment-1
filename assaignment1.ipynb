{
  "nbformat": 4,
  "nbformat_minor": 0,
  "metadata": {
    "colab": {
      "provenance": [],
      "collapsed_sections": []
    },
    "kernelspec": {
      "name": "python3",
      "display_name": "Python 3"
    },
    "language_info": {
      "name": "python"
    }
  },
  "cells": [
    {
      "cell_type": "code",
      "execution_count": null,
      "metadata": {
        "colab": {
          "base_uri": "https://localhost:8080/"
        },
        "id": "t0i45LeKGUvG",
        "outputId": "7181d30f-ee19-4be9-cee4-dad75949079c"
      },
      "outputs": [
        {
          "output_type": "stream",
          "name": "stdout",
          "text": [
            "enter A = 23\n",
            "enter B = 45\n",
            "value of A :23 , value of B : 45\n"
          ]
        }
      ],
      "source": [
        "A=input(\"enter A = \")\n",
        "B=input(\"enter B = \")\n",
        "print (f\"value of A :{A} , value of B : {B}\")"
      ]
    },
    {
      "cell_type": "code",
      "source": [
        "#there are 31 reserve words in python. they are :and,as,assert,break,class,continue,def,del,elif,else,except,exec,finally,for,from,global,if,import,in,is,lambda,not,or,pass,print,raise,return,try || we should not use this words as variable as these are already in-bulit in python. "
      ],
      "metadata": {
        "id": "7lDCsykRIjpv"
      },
      "execution_count": null,
      "outputs": []
    },
    {
      "cell_type": "code",
      "source": [
        "fname= input (\"your frist name :  \")\n",
        "lname= input (\"your last name : \")\n",
        "print (f\"mail ID :{lname}.{fname}@gmail.com \")"
      ],
      "metadata": {
        "colab": {
          "base_uri": "https://localhost:8080/"
        },
        "id": "1JE0CE5wKr7_",
        "outputId": "f5e0d502-4c7c-4d4e-dca5-0152878a5758"
      },
      "execution_count": null,
      "outputs": [
        {
          "output_type": "stream",
          "name": "stdout",
          "text": [
            "your frist name :  Rafat\n",
            "your last name : shariar\n",
            "mail ID :shariar.Rafat@gmail.com \n"
          ]
        }
      ]
    },
    {
      "cell_type": "code",
      "source": [
        "name= input (\"your name : \")\n",
        "address= input (\"your address : \")\n",
        "income = input (\"your daily income : \")\n",
        "print (f\"Hi I'm {name}\"\n",
        "       f\" my adress is {address}\",\n",
        "       f\" I earn {income}$ daily\")"
      ],
      "metadata": {
        "colab": {
          "base_uri": "https://localhost:8080/"
        },
        "id": "iSFkeif5O9qv",
        "outputId": "a7424790-cf35-42a2-b300-eead0ac778e8"
      },
      "execution_count": null,
      "outputs": [
        {
          "output_type": "stream",
          "name": "stdout",
          "text": [
            "your name : nabila\n",
            "your address : 22\\3\n",
            "your daily income : 20\n",
            "Hi I'm nabila my adress is 22\\3  I earn 20$ daily\n"
          ]
        }
      ]
    },
    {
      "cell_type": "code",
      "source": [
        "name= input (\"your name : \")\n",
        "address= input (\"your adress : \")\n",
        "dateofbirth = input (\"your date of birth :\" )\n",
        "print (f\"student name is {name} ; lives in  {address}; born in {dateofbirth}\")"
      ],
      "metadata": {
        "colab": {
          "base_uri": "https://localhost:8080/"
        },
        "id": "R1l9SHJER03M",
        "outputId": "0fac051e-ac70-4e6a-90c4-98af5f1b31c7"
      },
      "execution_count": null,
      "outputs": [
        {
          "output_type": "stream",
          "name": "stdout",
          "text": [
            "your name : nabila \n",
            "your adress : dhaka\n",
            "your date of birth :10 march,1996\n",
            "student name is nabila  ; lives in  dhaka; born in 10 march,1996\n"
          ]
        }
      ]
    },
    {
      "cell_type": "code",
      "source": [
        "A= 22.4\n",
        "print(f\"data type before: {type(A)}, value of A :{A}\")\n",
        "A=int (A)\n",
        "print (f\"data type After: {type(A)}, value of A :{A}\")\n"
      ],
      "metadata": {
        "colab": {
          "base_uri": "https://localhost:8080/"
        },
        "id": "JEhTvRMmT8aJ",
        "outputId": "b9d22240-45e4-47dc-9703-edc4ca79930c"
      },
      "execution_count": null,
      "outputs": [
        {
          "output_type": "stream",
          "name": "stdout",
          "text": [
            "data type before: <class 'float'>, value of A :22.4\n",
            "data type After: <class 'int'>, value of A :22\n"
          ]
        }
      ]
    },
    {
      "cell_type": "code",
      "source": [
        "A=\"22\"\n",
        "print (f\"data type before :{type(A)}, value of A : {A}\")\n",
        "A=complex(A)\n",
        "print (f\"data type before :{type(A)}, value of A : {A}\")"
      ],
      "metadata": {
        "colab": {
          "base_uri": "https://localhost:8080/"
        },
        "id": "a3GDQZyUYkg0",
        "outputId": "94c24c5c-ff45-42ed-9d4f-7bc8c886c55c"
      },
      "execution_count": null,
      "outputs": [
        {
          "output_type": "stream",
          "name": "stdout",
          "text": [
            "data type before :<class 'str'>, value of A : 22\n",
            "data type before :<class 'complex'>, value of A : (22+0j)\n"
          ]
        }
      ]
    },
    {
      "cell_type": "code",
      "source": [
        "#error1: i didnt write f in the brackets; so the value wasn't showing. after putting f everything run well\n",
        "#error2: case sensitivity; i wrote a instead of A "
      ],
      "metadata": {
        "id": "yNrvLSKzb1bP"
      },
      "execution_count": null,
      "outputs": []
    }
  ]
}